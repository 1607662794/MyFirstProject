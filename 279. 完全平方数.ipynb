{
 "cells": [
  {
   "cell_type": "markdown",
   "id": "caced38b",
   "metadata": {},
   "source": [
    "题目要求：\n",
    "\n",
    "给你一个整数 n ，返回 和为 n 的完全平方数的最少数量 。\n",
    "\n",
    "完全平方数 是一个整数，其值等于另一个整数的平方；换句话说，其值等于一个整数自乘的积。例如，1、4、9 和 16 都是完全平方数，而 3 和 11 不是。"
   ]
  },
  {
   "cell_type": "code",
   "execution_count": null,
   "id": "40a0e3a8",
   "metadata": {
    "ExecuteTime": {
     "start_time": "2024-03-24T07:46:40.775Z"
    }
   },
   "outputs": [
    {
     "name": "stdout",
     "output_type": "stream",
     "text": [
      "> \u001B[1;32mc:\\windows\\temp\\ipykernel_60252\\4245616553.py\u001B[0m(14)\u001B[0;36mnumSquares\u001B[1;34m()\u001B[0m\n",
      "\n",
      "ipdb> l\n",
      "\u001B[0;32m      9 \u001B[0m        \u001B[1;33m:\u001B[0m\u001B[0mtype\u001B[0m \u001B[0mn\u001B[0m\u001B[1;33m:\u001B[0m \u001B[0mint\u001B[0m\u001B[1;33m\u001B[0m\u001B[1;33m\u001B[0m\u001B[0m\n",
      "\u001B[0;32m     10 \u001B[0m        \u001B[1;33m:\u001B[0m\u001B[0mrtype\u001B[0m\u001B[1;33m:\u001B[0m \u001B[0mint\u001B[0m\u001B[1;33m\u001B[0m\u001B[1;33m\u001B[0m\u001B[0m\n",
      "\u001B[0;32m     11 \u001B[0m        \"\"\"\n",
      "\u001B[0;32m     12 \u001B[0m        \u001B[0mi\u001B[0m \u001B[1;33m=\u001B[0m \u001B[1;36m1\u001B[0m\u001B[1;33m\u001B[0m\u001B[1;33m\u001B[0m\u001B[0m\n",
      "\u001B[0;32m     13 \u001B[0m        \u001B[0mpdb\u001B[0m\u001B[1;33m.\u001B[0m\u001B[0mset_trace\u001B[0m\u001B[1;33m(\u001B[0m\u001B[1;33m)\u001B[0m\u001B[1;33m\u001B[0m\u001B[1;33m\u001B[0m\u001B[0m\n",
      "\u001B[1;32m---> 14 \u001B[1;33m        \u001B[0mmemo\u001B[0m \u001B[1;33m=\u001B[0m \u001B[1;33m[\u001B[0m\u001B[1;33m]\u001B[0m\u001B[1;33m\u001B[0m\u001B[1;33m\u001B[0m\u001B[0m\n",
      "\u001B[0m\u001B[0;32m     15 \u001B[0m        \u001B[1;32mwhile\u001B[0m \u001B[0mi\u001B[0m\u001B[1;33m**\u001B[0m\u001B[1;36m2\u001B[0m \u001B[1;33m<=\u001B[0m \u001B[0mn\u001B[0m\u001B[1;33m:\u001B[0m\u001B[1;33m\u001B[0m\u001B[1;33m\u001B[0m\u001B[0m\n",
      "\u001B[0;32m     16 \u001B[0m            \u001B[0mmemo\u001B[0m\u001B[1;33m.\u001B[0m\u001B[0mappend\u001B[0m\u001B[1;33m(\u001B[0m\u001B[0mi\u001B[0m\u001B[1;33m**\u001B[0m\u001B[1;36m2\u001B[0m\u001B[1;33m)\u001B[0m\u001B[1;33m\u001B[0m\u001B[1;33m\u001B[0m\u001B[0m\n",
      "\u001B[0;32m     17 \u001B[0m            \u001B[0mi\u001B[0m \u001B[1;33m=\u001B[0m\u001B[1;33m+\u001B[0m \u001B[1;36m1\u001B[0m\u001B[1;33m\u001B[0m\u001B[1;33m\u001B[0m\u001B[0m\n",
      "\u001B[0;32m     18 \u001B[0m        \u001B[0mnumber\u001B[0m \u001B[1;33m=\u001B[0m \u001B[1;36m0\u001B[0m\u001B[1;33m\u001B[0m\u001B[1;33m\u001B[0m\u001B[0m\n",
      "\u001B[0;32m     19 \u001B[0m        \u001B[1;32mwhile\u001B[0m \u001B[0mn\u001B[0m \u001B[1;33m>\u001B[0m \u001B[1;36m0\u001B[0m\u001B[1;33m:\u001B[0m\u001B[1;33m\u001B[0m\u001B[1;33m\u001B[0m\u001B[0m\n",
      "\n",
      "ipdb> n\n",
      "> \u001B[1;32mc:\\windows\\temp\\ipykernel_60252\\4245616553.py\u001B[0m(15)\u001B[0;36mnumSquares\u001B[1;34m()\u001B[0m\n",
      "\n",
      "ipdb> n\n",
      "> \u001B[1;32mc:\\windows\\temp\\ipykernel_60252\\4245616553.py\u001B[0m(16)\u001B[0;36mnumSquares\u001B[1;34m()\u001B[0m\n",
      "\n"
     ]
    }
   ],
   "source": [
    "# 我的思路是该数从大往小找完全平方数，如果有三个相连的完全平方数，前两个的完全平方数和不一定小于第三个数的完全平方数。\n",
    "# 因此如果最后加不起来的话，还得需要删除之前的数来重新调试一番。\n",
    "# 一般动态规划使用的是自底而上的归纳演绎法。\n",
    "# 而这道题我感觉可以使用自顶向下的备忘录法。\n",
    "import pdb\n",
    "class Solution(object):\n",
    "    def numSquares(self, n):\n",
    "        \"\"\"\n",
    "        :type n: int\n",
    "        :rtype: int\n",
    "        \"\"\"\n",
    "        i = 1\n",
    "        pdb.set_trace()\n",
    "        memo = []\n",
    "        while i**2 <= n:\n",
    "            memo.append(i**2)\n",
    "            i =+ 1\n",
    "        number = 0\n",
    "        while n > 0:\n",
    "            if n >= memo[-1]:\n",
    "                number += 1\n",
    "                n -= memo[-1]\n",
    "            else:\n",
    "                memo.pop()\n",
    "\n",
    "solution = Solution()\n",
    "print(solution.numSquares(12))"
   ]
  },
  {
   "cell_type": "code",
   "execution_count": 3,
   "id": "4b014791",
   "metadata": {
    "ExecuteTime": {
     "end_time": "2024-03-24T07:22:36.987879Z",
     "start_time": "2024-03-24T07:22:36.274374Z"
    }
   },
   "outputs": [
    {
     "ename": "AttributeError",
     "evalue": "'list' object has no attribute 'appenda'",
     "output_type": "error",
     "traceback": [
      "\u001B[1;31m---------------------------------------------------------------------------\u001B[0m",
      "\u001B[1;31mAttributeError\u001B[0m                            Traceback (most recent call last)",
      "Cell \u001B[1;32mIn[3], line 24\u001B[0m\n\u001B[0;32m     22\u001B[0m                 memo\u001B[38;5;241m.\u001B[39mpop()\n\u001B[0;32m     23\u001B[0m solution \u001B[38;5;241m=\u001B[39m Solution()\n\u001B[1;32m---> 24\u001B[0m \u001B[38;5;28mprint\u001B[39m(\u001B[43msolution\u001B[49m\u001B[38;5;241;43m.\u001B[39;49m\u001B[43mnumSquares\u001B[49m\u001B[43m(\u001B[49m\u001B[38;5;241;43m12\u001B[39;49m\u001B[43m)\u001B[49m)\n",
      "Cell \u001B[1;32mIn[3], line 14\u001B[0m, in \u001B[0;36mSolution.numSquares\u001B[1;34m(self, n)\u001B[0m\n\u001B[0;32m     12\u001B[0m memo \u001B[38;5;241m=\u001B[39m []\n\u001B[0;32m     13\u001B[0m \u001B[38;5;28;01mwhile\u001B[39;00m i\u001B[38;5;241m*\u001B[39m\u001B[38;5;241m*\u001B[39m\u001B[38;5;241m2\u001B[39m \u001B[38;5;241m<\u001B[39m\u001B[38;5;241m=\u001B[39m n:\n\u001B[1;32m---> 14\u001B[0m     \u001B[43mmemo\u001B[49m\u001B[38;5;241;43m.\u001B[39;49m\u001B[43mappenda\u001B[49m(i\u001B[38;5;241m*\u001B[39m\u001B[38;5;241m*\u001B[39m\u001B[38;5;241m2\u001B[39m)\n\u001B[0;32m     15\u001B[0m     i \u001B[38;5;241m=\u001B[39m\u001B[38;5;241m+\u001B[39m \u001B[38;5;241m1\u001B[39m\n\u001B[0;32m     16\u001B[0m number \u001B[38;5;241m=\u001B[39m \u001B[38;5;241m0\u001B[39m\n",
      "\u001B[1;31mAttributeError\u001B[0m: 'list' object has no attribute 'appenda'"
     ]
    }
   ],
   "source": []
  },
  {
   "cell_type": "code",
   "execution_count": null,
   "id": "4f086f34",
   "metadata": {},
   "outputs": [],
   "source": []
  }
 ],
 "metadata": {
  "kernelspec": {
   "display_name": "Python 3 (ipykernel)",
   "language": "python",
   "name": "python3"
  },
  "language_info": {
   "codemirror_mode": {
    "name": "ipython",
    "version": 3
   },
   "file_extension": ".py",
   "mimetype": "text/x-python",
   "name": "python",
   "nbconvert_exporter": "python",
   "pygments_lexer": "ipython3",
   "version": "3.9.13"
  },
  "toc": {
   "base_numbering": 1,
   "nav_menu": {
    "height": "106px",
    "width": "208px"
   },
   "number_sections": true,
   "sideBar": true,
   "skip_h1_title": false,
   "title_cell": "Table of Contents",
   "title_sidebar": "Contents",
   "toc_cell": false,
   "toc_position": {},
   "toc_section_display": true,
   "toc_window_display": false
  }
 },
 "nbformat": 4,
 "nbformat_minor": 5
}
